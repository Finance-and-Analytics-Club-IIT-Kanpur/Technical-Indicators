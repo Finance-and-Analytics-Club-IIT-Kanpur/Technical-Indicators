{
 "cells": [
  {
   "cell_type": "code",
   "execution_count": null,
   "metadata": {},
   "outputs": [],
   "source": [
    "def woodies_cci(df, period_cci=14, period_turbo=6):\n",
    "    df['typical_price'] = (df['High'] + df['Low'] + df['Close']) / 3\n",
    "\n",
    "    def calculate_cci(df, period):\n",
    "        tp_sma = df['typical_price'].rolling(window=period).mean()\n",
    "        mean_deviation = df['typical_price'].rolling(window=period).apply(lambda x: pd.Series(x).mad())\n",
    "        cci = (df['typical_price'] - tp_sma) / (0.015 * mean_deviation)\n",
    "        return cci\n",
    "\n",
    "    df['cci_14'] = calculate_cci(df, period_cci)\n",
    "    df['cci_6'] = calculate_cci(df, period_turbo)\n",
    "\n",
    "    df['signal'] = 0\n",
    "    df['signal'] = df['cci_14'].apply(lambda x: 1 if x > 0 else -1 if x < 0 else 0)\n",
    "    df['signal'] = df.apply(lambda row: row['signal'] if row['cci_6'] * row['cci_14'] > 0 else 0, axis=1)\n",
    "    df.drop(columns=['typical_price'], inplace=True)\n",
    "    return df"
   ]
  }
 ],
 "metadata": {
  "language_info": {
   "name": "python"
  }
 },
 "nbformat": 4,
 "nbformat_minor": 2
}
