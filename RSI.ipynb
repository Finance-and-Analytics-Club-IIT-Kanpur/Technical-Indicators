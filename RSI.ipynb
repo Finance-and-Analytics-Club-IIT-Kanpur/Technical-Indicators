{
 "cells": [
  {
   "cell_type": "code",
   "execution_count": 20,
   "id": "0ee645e2-7a8b-4552-a9a5-61aefdf1be86",
   "metadata": {},
   "outputs": [],
   "source": [
    "def rsi(data,window=14):\n",
    "    delta = data['close'].diff(1)\n",
    "    gain = delta.where(delta > 0, 0)\n",
    "    loss = -delta.where(delta < 0, 0)\n",
    "    avg_gain = gain.rolling(window=window).mean()\n",
    "    avg_loss = loss.rolling(window=window).mean()\n",
    "    rs = avg_gain / avg_loss\n",
    "    rsi = 100 - (100 / (1 + rs))\n",
    "    RSI_signal=[]\n",
    "    for i in range (0,len(data)):\n",
    "        if(rsi[i] < 40) :\n",
    "            RSI_signal.append(-1)\n",
    "        elif(rsi[i] > 60) :\n",
    "            RSI_signal.append(1)\n",
    "        else:\n",
    "            RSI_signal.append(0)\n",
    "    data['signal_RSI']=RSI_signal\n",
    "    return data"
   ]
  }
 ],
 "metadata": {
  "kernelspec": {
   "display_name": "Python 3 (ipykernel)",
   "language": "python",
   "name": "python3"
  },
  "language_info": {
   "codemirror_mode": {
    "name": "ipython",
    "version": 3
   },
   "file_extension": ".py",
   "mimetype": "text/x-python",
   "name": "python",
   "nbconvert_exporter": "python",
   "pygments_lexer": "ipython3",
   "version": "3.12.0"
  }
 },
 "nbformat": 4,
 "nbformat_minor": 5
}
