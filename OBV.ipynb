{
 "cells": [
  {
   "cell_type": "code",
   "execution_count": 22,
   "id": "0ee645e2-7a8b-4552-a9a5-61aefdf1be86",
   "metadata": {},
   "outputs": [],
   "source": [
    "def obv(data):\n",
    "    obv=[]\n",
    "    obv.append(0)\n",
    "    \n",
    "    for i in range(1,len(data)):\n",
    "      if(data[\"close\"].iloc[i]>data[\"close\"].iloc[i-1]):\n",
    "        obv.append(obv[i-1]+data[\"volume\"].iloc[i])\n",
    "      elif(data[\"close\"].iloc[i]<data[\"close\"].iloc[i-1]):\n",
    "        obv.append(obv[i-1]-data[\"volume\"].iloc[i])\n",
    "      else:\n",
    "        obv.append(obv[i-1])\n",
    "    \n",
    "    data[\"signal_obv\"]=obv    \n",
    "    return data"
   ]
  }
 ],
 "metadata": {
  "kernelspec": {
   "display_name": "Python 3 (ipykernel)",
   "language": "python",
   "name": "python3"
  },
  "language_info": {
   "codemirror_mode": {
    "name": "ipython",
    "version": 3
   },
   "file_extension": ".py",
   "mimetype": "text/x-python",
   "name": "python",
   "nbconvert_exporter": "python",
   "pygments_lexer": "ipython3",
   "version": "3.12.0"
  }
 },
 "nbformat": 4,
 "nbformat_minor": 5
}
