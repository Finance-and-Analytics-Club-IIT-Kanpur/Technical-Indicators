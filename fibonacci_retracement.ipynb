{
 "cells": [
  {
   "cell_type": "code",
   "execution_count": null,
   "metadata": {},
   "outputs": [],
   "source": [
    "def calculate_fibonacci_levels(data):\n",
    "    signal = [0]\n",
    "    min_price = data['Close'].iloc[0]\n",
    "    max_price = data['Close'].iloc[0]\n",
    "    \n",
    "    for i in range(1, len(data)):\n",
    "        price = data['Close'].iloc[i]\n",
    "        \n",
    "\n",
    "        max_price = max(max_price, price)\n",
    "        min_price = min(min_price, price)\n",
    "        \n",
    "\n",
    "        lvl3 = max_price - 0.38 * (max_price - min_price)\n",
    "        lvl4 = max_price - 0.618 * (max_price - min_price)\n",
    "        \n",
    "\n",
    "        if price <= lvl3:\n",
    "            signal.append(1)  # Buy signal\n",
    "        elif price >= lvl4:\n",
    "            signal.append(-1)  # Sell signal\n",
    "        else:\n",
    "            signal.append(0)  # No signal\n",
    "\n",
    "    data['signal_fibonacci'] = signal\n",
    "\n",
    "    return data\n"
   ]
  }
 ],
 "metadata": {
  "language_info": {
   "name": "python"
  }
 },
 "nbformat": 4,
 "nbformat_minor": 2
}
