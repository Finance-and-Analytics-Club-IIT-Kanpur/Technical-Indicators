{
 "cells": [
  {
   "cell_type": "code",
   "execution_count": null,
   "metadata": {},
   "outputs": [],
   "source": [
    "def calculate_tlev(df, short_period=20, long_period=50):\n",
    "\n",
    "    df['vol_short_ma'] = df['volume'].rolling(window=short_period).mean()\n",
    "    df['vol_long_ma'] = df['volume'].rolling(window=long_period).mean()\n",
    "    \n",
    "    df['vol_oscillator'] = (df['vol_short_ma'] - df['vol_long_ma']) / df['vol_long_ma']\n",
    "\n",
    "    df['signal_tlev'] = 0\n",
    "    df.loc[(df['vol_oscillator'] > 0) & (df['close'] > df['close'].shift(1)), 'signal_tlev'] = 1\n",
    "    df.loc[(df['vol_oscillator'] < 0) & (df['close'] < df['close'].shift(1)), 'signal_tlev'] = -1\n",
    "    \n",
    "    return df\n"
   ]
  }
 ],
 "metadata": {
  "language_info": {
   "name": "python"
  }
 },
 "nbformat": 4,
 "nbformat_minor": 2
}
