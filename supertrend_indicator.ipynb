{
 "cells": [
  {
   "cell_type": "code",
   "execution_count": null,
   "metadata": {},
   "outputs": [],
   "source": [
    "def calculate_supertrend(df,period=14, multiplier=3):\n",
    "\n",
    "    df['high_low'] = df['high'] - df['low']\n",
    "    df['high_close'] = np.abs(df['high'] - df['close'].shift(1))\n",
    "    df['low_close'] = np.abs(df['low'] - df['close'].shift(1))\n",
    "    df['tr'] = df[['high_low', 'high_close', 'low_close']].max(axis=1)\n",
    "    df['atr'] = df['tr'].rolling(window=period).mean()\n",
    "\n",
    "    df['basic_upperband'] = ((df['high'] + df['low']) / 2) + (multiplier * df['atr'])\n",
    "    df['basic_lowerband'] = ((df['high'] + df['low']) / 2) - (multiplier * df['atr'])\n",
    "    \n",
    "    df['supertrend'] = 0\n",
    "    df['in_uptrend'] = True \n",
    "    \n",
    "    for i in range(1, len(df)):\n",
    "        previous_close = df['close'].iloc[i-1]\n",
    "        previous_supertrend = df['supertrend'].iloc[i-1] if i > 1 else df['basic_lowerband'].iloc[i-1]\n",
    "        upperband = df['basic_upperband'].iloc[i]\n",
    "        lowerband = df['basic_lowerband'].iloc[i]\n",
    "\n",
    "        if df['in_uptrend'].iloc[i-1]:\n",
    "            df['supertrend'].iloc[i] = max(lowerband, previous_supertrend) if df['close'].iloc[i] > lowerband else upperband\n",
    "            df['in_uptrend'].iloc[i] = df['close'].iloc[i] > lowerband\n",
    "        else:\n",
    "            df['supertrend'].iloc[i] = min(upperband, previous_supertrend) if df['close'].iloc[i] < upperband else lowerband\n",
    "            df['in_uptrend'].iloc[i] = df['close'].iloc[i] > upperband\n",
    "    \n",
    "    df['signal_st'] = 0\n",
    "    df.loc[df['in_uptrend'] == True, 'signal_st'] = 1\n",
    "    df.loc[df['in_uptrend'] == False, 'signal_st'] = -1\n",
    "    \n",
    "    return df"
   ]
  }
 ],
 "metadata": {
  "language_info": {
   "name": "python"
  }
 },
 "nbformat": 4,
 "nbformat_minor": 2
}
