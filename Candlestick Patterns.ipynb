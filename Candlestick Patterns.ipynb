{
 "cells": [
  {
   "cell_type": "code",
   "execution_count": null,
   "metadata": {},
   "outputs": [],
   "source": [
    "def hammer(df):\n",
    "    df['signal'] = 0\n",
    "    condition = (df['Close'] > df['Open']) & ((df['Open'] - df['Low']) >= 2 * (df['Close'] - df['Open']))\n",
    "    df.loc[condition, 'signal'] = 1\n",
    "    return df"
   ]
  },
  {
   "cell_type": "code",
   "execution_count": null,
   "metadata": {},
   "outputs": [],
   "source": [
    "def shooting_star(df):\n",
    "    df['signal'] = 0\n",
    "    condition = (df['Open'] > df['Close']) & ((df['High'] - df['Open']) >= 2 * (df['Open'] - df['Close']))\n",
    "    df.loc[condition, 'signal'] = -1\n",
    "    return df"
   ]
  },
  {
   "cell_type": "code",
   "execution_count": null,
   "metadata": {},
   "outputs": [],
   "source": [
    "def bullish_engulfing(df):\n",
    "    df['signal'] = 0\n",
    "    condition = (df['Close'].shift(1) < df['Open'].shift(1)) & (df['Close'] > df['Open']) & (df['Close'] > df['Open'].shift(1)) & (df['Open'] < df['Close'].shift(1))\n",
    "    df.loc[condition, 'signal'] = 1\n",
    "    return df"
   ]
  },
  {
   "cell_type": "code",
   "execution_count": null,
   "metadata": {},
   "outputs": [],
   "source": [
    "def bearish_engulfing(df):\n",
    "    df['signal'] = 0\n",
    "    condition = (df['Close'].shift(1) > df['Open'].shift(1)) & (df['Close'] < df['Open']) & (df['Close'] < df['Open'].shift(1)) & (df['Open'] > df['Close'].shift(1))\n",
    "    df.loc[condition, 'signal'] = -1\n",
    "    return df"
   ]
  },
  {
   "cell_type": "code",
   "execution_count": null,
   "metadata": {},
   "outputs": [],
   "source": [
    "def doji(df):\n",
    "    df['signal'] = 0\n",
    "    condition = (abs(df['Close'] - df['Open']) <= (df['High'] - df['Low']) * 0.1)\n",
    "    df.loc[condition, 'signal'] = 1 \n",
    "    return df"
   ]
  }
 ],
 "metadata": {
  "kernelspec": {
   "display_name": "Python 3",
   "language": "python",
   "name": "python3"
  },
  "language_info": {
   "name": "python",
   "version": "3.11.9"
  }
 },
 "nbformat": 4,
 "nbformat_minor": 2
}
