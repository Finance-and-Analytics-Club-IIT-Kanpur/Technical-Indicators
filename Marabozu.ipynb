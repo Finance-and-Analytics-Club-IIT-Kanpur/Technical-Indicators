{
 "cells": [
  {
   "cell_type": "code",
   "execution_count": 23,
   "id": "b02611f3-abaa-4c9e-a713-f635a8efcc88",
   "metadata": {},
   "outputs": [],
   "source": [
    "def marabozu_signal(data):\n",
    "    marabozu_signal=[]\n",
    "    i=0\n",
    "    while i< len(data)-1:\n",
    "      body=data['close'][i]-data['open'][i]\n",
    "      upper_wick=data['high'][i]-max(data['close'][i],data['open'][i])\n",
    "      lower_wick=data['low'][i]-min(data['close'][i],data['open'][i])\n",
    "      is_bullish=body>0 and upper_wick<body*0.1 and lower_wick<body*0.1\n",
    "      is_bearish=body<0 and upper_wick<body*0.1 and lower_wick<body*0.1\n",
    "      if(is_bullish):\n",
    "        stop_loss=data['low'][i]\n",
    "        for j in range (i,min(i+10,len(data)-1)):\n",
    "          if(data['close'][j]>stop_loss):\n",
    "            marabozu_signal.append(1)\n",
    "          else:\n",
    "            marabozu_signal.append(0)\n",
    "        i+=10\n",
    "      elif(is_bearish):\n",
    "        take_profit=data['high'][i]\n",
    "        for j in range (i,min(i+10,len(data)-1)):\n",
    "          if(data['close'][j]<take_profit):\n",
    "            marabozu_signal.append(-1)\n",
    "          else:\n",
    "            marabozu_signal.append(0)\n",
    "        i+=10\n",
    "      else:\n",
    "          marabozu_signal.append(0)\n",
    "          i+=1\n",
    "    marabozu_signal.append(0)\n",
    "    data['signal_marabozu']=marabozu_signal\n",
    "    return data"
   ]
  }
 ],
 "metadata": {
  "kernelspec": {
   "display_name": "Python 3 (ipykernel)",
   "language": "python",
   "name": "python3"
  },
  "language_info": {
   "codemirror_mode": {
    "name": "ipython",
    "version": 3
   },
   "file_extension": ".py",
   "mimetype": "text/x-python",
   "name": "python",
   "nbconvert_exporter": "python",
   "pygments_lexer": "ipython3",
   "version": "3.12.0"
  }
 },
 "nbformat": 4,
 "nbformat_minor": 5
}
