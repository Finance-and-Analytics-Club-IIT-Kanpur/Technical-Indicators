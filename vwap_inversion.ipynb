{
 "cells": [
  {
   "cell_type": "code",
   "execution_count": null,
   "id": "a92889cb",
   "metadata": {},
   "outputs": [],
   "source": [
    "def vwap_reversion(data,period=20):\n",
    "    data['TP'] = (data['high']+data['low']+data['close'])/ 3\n",
    "    \n",
    "    data['VWAP']=(data['TP']*data['volume']).rolling(window=period).sum() / data['volume'].rolling(window=period).sum()\n",
    "    data['signals'] = 0\n",
    "    \n",
    "    data['dev'] = (data['close'] - data['VWAP']) / data['VWAP']\n",
    "    \n",
    "    threshold=0.02\n",
    "    \n",
    "    \n",
    "    data.loc[data['dev'] < -threshold, 'signals'] = 1  \n",
    "    data.loc[data['dev'] > threshold, 'signals'] = -1  \n",
    "    return data"
   ]
  }
 ],
 "metadata": {
  "kernelspec": {
   "display_name": "Python 3 (ipykernel)",
   "language": "python",
   "name": "python3"
  },
  "language_info": {
   "codemirror_mode": {
    "name": "ipython",
    "version": 3
   },
   "file_extension": ".py",
   "mimetype": "text/x-python",
   "name": "python",
   "nbconvert_exporter": "python",
   "pygments_lexer": "ipython3",
   "version": "3.11.5"
  }
 },
 "nbformat": 4,
 "nbformat_minor": 5
}
