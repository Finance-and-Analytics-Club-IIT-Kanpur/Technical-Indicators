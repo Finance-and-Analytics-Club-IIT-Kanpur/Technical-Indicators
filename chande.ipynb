{
  "cells": [
    {
      "cell_type": "code",
      "source": [
        "def chande(data):\n",
        "    high=0\n",
        "    low=0\n",
        "    osc=[]\n",
        "    sma=[]\n",
        "    signals=[]\n",
        "    avg=0\n",
        "    for i in range(10):\n",
        "        high+=data['High'].iloc[i]\n",
        "        low+=data['Low'].iloc[i]\n",
        "        avg+=data['Close'].iloc[i]\n",
        "    for i in range(10):\n",
        "        osc.append(0)\n",
        "        sma.append(0)\n",
        "    for i in range(10,len(data)):\n",
        "        osc.append(((high-low)/(high+low))*100)\n",
        "        high-=data['High'].iloc[i-10]\n",
        "        high+=data['High'].iloc[i]\n",
        "        low-=data['Low'].iloc[i-10]\n",
        "        low+=data['Low'].iloc[i]\n",
        "        sma.append(avg/10)\n",
        "        avg-=data['Close'].iloc[i-10]\n",
        "        avg+=data['Close'].iloc[i]\n",
        "    signals.append(0)\n",
        "    for i in range(1,len(data)):\n",
        "        if(sma[i]>data['Close'].iloc[i]):\n",
        "            if(osc[i]<-50):\n",
        "                signals.append(-1)\n",
        "            elif(osc[i]<0 and osc[i]<osc[i-1]):\n",
        "                signals.append(-1)\n",
        "            else:\n",
        "                 signals.append(0)\n",
        "        elif(sma[i]<data['Close'].iloc[i]):\n",
        "            if(osc[i]>50):\n",
        "                signals.append(1)\n",
        "            elif(osc[i]>0 and osc[i]>osc[i-1]):\n",
        "                signals.append(1)\n",
        "            else:\n",
        "                            signals.append(0)\n",
        "    data['signal_chande']=signals\n",
        "    return data"
      ],
      "metadata": {
        "id": "rAZgqSCYJQBP"
      },
      "execution_count": null,
      "outputs": []
    }
  ],
  "metadata": {
    "colab": {
      "name": "Snippets: Importing libraries",
      "provenance": []
    },
    "kernelspec": {
      "display_name": "Python 3",
      "name": "python3"
    }
  },
  "nbformat": 4,
  "nbformat_minor": 0
}
