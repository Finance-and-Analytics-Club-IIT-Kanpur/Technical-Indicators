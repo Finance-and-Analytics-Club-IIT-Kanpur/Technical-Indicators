{
 "cells": [
  {
   "cell_type": "code",
   "execution_count": 30,
   "id": "9b57428d-78d5-4c72-b3fd-b1c7eecc0aed",
   "metadata": {},
   "outputs": [],
   "source": [
    "def SMMA(period):\n",
    "    smma = []\n",
    "    for i in range(0,period-1):\n",
    "      smma.append(0)\n",
    "    smma.append(data['close'].rolling(window=period).mean().iloc[period-1])\n",
    "    for i in range(period, len(data)):\n",
    "        smma.append( ((smma[i-1] * (period - 1)) + data['close'].iloc[i]) / period )\n",
    "    return smma\n",
    "\n",
    "def william_alligator(data,period1=13,period2=8,period3=5):\n",
    "    blue = SMMA(period1)\n",
    "    red = SMMA(period2)\n",
    "    green = SMMA(period3)\n",
    "    current = 0\n",
    "    alli_signals = []\n",
    "    for i in range(0,21):\n",
    "      alli_signals.append(current)\n",
    "    for i in range(21,len(data)):\n",
    "      if(blue[i-8] > red[i-5] and red[i-5] > green[i-3] and green[i-3]>data[\"close\"].iloc[i] ):\n",
    "        current = -1\n",
    "        alli_signals.append(-1)\n",
    "      elif(blue[i-8] < red[i-5] and red[i-5] < green[i-3] and green[i-3]<data[\"close\"].iloc[i]  ):\n",
    "        current = 1\n",
    "        alli_signals.append(1)\n",
    "      elif(current == 1 or current==-1):\n",
    "        if(current==1):\n",
    "          alli_signals.append(-1)\n",
    "          current=0\n",
    "        else:\n",
    "          alli_signals.append(1)\n",
    "          current=0\n",
    "      else:\n",
    "        alli_signals.append(0)\n",
    "        current=0\n",
    "    data['signal_william_alligator']=alli_signals\n",
    "    return data"
   ]
  }
 ],
 "metadata": {
  "kernelspec": {
   "display_name": "Python 3 (ipykernel)",
   "language": "python",
   "name": "python3"
  },
  "language_info": {
   "codemirror_mode": {
    "name": "ipython",
    "version": 3
   },
   "file_extension": ".py",
   "mimetype": "text/x-python",
   "name": "python",
   "nbconvert_exporter": "python",
   "pygments_lexer": "ipython3",
   "version": "3.12.0"
  }
 },
 "nbformat": 4,
 "nbformat_minor": 5
}
