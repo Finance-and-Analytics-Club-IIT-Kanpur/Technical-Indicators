{
 "cells": [
  {
   "cell_type": "code",
   "execution_count": null,
   "metadata": {},
   "outputs": [],
   "source": [
    "def hma(data,period):\n",
    " data['sma_5'] = data['close'].ewm(span=5,adjust=False).mean()\n",
    " wma_1 = data['close'].rolling(period//2).apply(lambda x: \\\n",
    " np.sum(x * np.arange(1, period//2+1)) / np.sum(np.arange(1, period//2+1)), raw=True)\n",
    " wma_2 = data['close'].rolling(period).apply(lambda x: \\\n",
    " np.sum(x * np.arange(1, period+1)) / np.sum(np.arange(1, period+1)), raw=True)\n",
    " diff = 2 * wma_1 - wma_2\n",
    " hma = diff.rolling(int(np.sqrt(period))).mean()\n",
    " data['hma'] = hma\n",
    " return data\n",
    "\n",
    "\n",
    "data_cpy = hma(data_cpy, 15)"
   ]
  }
 ],
 "metadata": {
  "language_info": {
   "name": "python"
  }
 },
 "nbformat": 4,
 "nbformat_minor": 2
}
