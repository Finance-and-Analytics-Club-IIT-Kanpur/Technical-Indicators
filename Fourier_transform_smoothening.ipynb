{
 "cells": [
  {
   "cell_type": "code",
   "execution_count": 3,
   "metadata": {},
   "outputs": [],
   "source": [
    "#It transforms the signal from the time domain (price over time) to the frequency domain \n",
    "# (how different frequency components contribute to the price movements). \n",
    "# This helps in identifying and separating high-frequency noise from low-frequency trends, \n",
    "# which can be crucial for smoothing volatile instruments.\n",
    "\n",
    "import numpy as np\n",
    "def fourier_transform_smoothing(data, cutoff=0.21):         #adjust cutoff (lower cutoff means more smoothening)\n",
    "    fft = np.fft.fft(data['close'])\n",
    "    frequencies = np.fft.fftfreq(len(data['close']))\n",
    "    fft[np.abs(frequencies) > cutoff] = 0\n",
    "    smoothed_prices = np.fft.ifft(fft)\n",
    "    data['close_copy_fourier'] = np.real(smoothed_prices).astype(np.float64)\n",
    "    return data"
   ]
  }
 ],
 "metadata": {
  "kernelspec": {
   "display_name": "base",
   "language": "python",
   "name": "python3"
  },
  "language_info": {
   "codemirror_mode": {
    "name": "ipython",
    "version": 3
   },
   "file_extension": ".py",
   "mimetype": "text/x-python",
   "name": "python",
   "nbconvert_exporter": "python",
   "pygments_lexer": "ipython3",
   "version": "3.11.5"
  }
 },
 "nbformat": 4,
 "nbformat_minor": 2
}
