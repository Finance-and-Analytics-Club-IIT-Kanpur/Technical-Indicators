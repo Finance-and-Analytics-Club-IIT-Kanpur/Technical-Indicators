{
 "cells": [
  {
   "cell_type": "code",
   "execution_count": null,
   "metadata": {},
   "outputs": [],
   "source": [
    "def calculate_choppiness_index(df, period=14):\n",
    "  \n",
    "    df['high_low'] = df['high'] - df['low']\n",
    "    df['high_close'] = np.abs(df['high'] - df['close'].shift(1))\n",
    "    df['low_close'] = np.abs(df['low'] - df['close'].shift(1))\n",
    "    df['tr'] = df[['high_low', 'high_close', 'low_close']].max(axis=1)\n",
    "    df['atr'] = df['tr'].rolling(window=period).mean()\n",
    "    \n",
    "    df['max_high'] = df['high'].rolling(window=period).max()\n",
    "    df['min_low'] = df['low'].rolling(window=period).min()\n",
    "    \n",
    "    df['chop'] = 100 * np.log10((df['atr'].rolling(window=period).sum()) / (df['max_high'] - df['min_low'])) / np.log10(period)\n",
    "    \n",
    "    chop_high=61.8 \n",
    "    chop_low=38.2\n",
    "    \n",
    "    df['signal_ci'] = 0\n",
    "    df.loc[df['chop'] < chop_low, 'signal_ci'] = 1\n",
    "    df.loc[df['chop'] > chop_high, 'signal_ci'] = -1\n",
    "    \n",
    "    return df\n"
   ]
  }
 ],
 "metadata": {
  "language_info": {
   "name": "python"
  }
 },
 "nbformat": 4,
 "nbformat_minor": 2
}
