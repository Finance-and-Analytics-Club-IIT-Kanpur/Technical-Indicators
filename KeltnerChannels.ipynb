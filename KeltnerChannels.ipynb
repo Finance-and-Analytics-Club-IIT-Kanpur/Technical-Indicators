{
 "cells": [
  {
   "cell_type": "code",
   "execution_count": null,
   "id": "79cbf735",
   "metadata": {},
   "outputs": [],
   "source": [
    "def Keltner_channels(data, eperiod=20,aperiod=10,multi=2):\n",
    "    data['signals'] = 0\n",
    "    data['Kmid']=data['close'].ewm(span=eperiod,adjust=False).mean()\n",
    "    data['ATR']=data['TR'].rolling(span=aperiod).mean()\n",
    "    data['TR'] = data[['high', 'low', 'close']].apply(\n",
    "        lambda x: max(x['high'] - x['low'], abs(x['high'] - x['close']), abs(x['low'] - x['close'])),\n",
    "        axis=1)\n",
    "    data['Kup'] = data['mid'] + (multi * data['ATR'])\n",
    "    data['Klow'] = data['mid'] - (multi * data['ATR'])\n",
    "    data.loc[data['close']<data['Klow'],'signals']=-1\n",
    "    data.loc[data['close']>data['Kup'],'signals']=1\n",
    "    return data"
   ]
  }
 ],
 "metadata": {
  "kernelspec": {
   "display_name": "Python 3 (ipykernel)",
   "language": "python",
   "name": "python3"
  },
  "language_info": {
   "codemirror_mode": {
    "name": "ipython",
    "version": 3
   },
   "file_extension": ".py",
   "mimetype": "text/x-python",
   "name": "python",
   "nbconvert_exporter": "python",
   "pygments_lexer": "ipython3",
   "version": "3.11.5"
  }
 },
 "nbformat": 4,
 "nbformat_minor": 5
}
