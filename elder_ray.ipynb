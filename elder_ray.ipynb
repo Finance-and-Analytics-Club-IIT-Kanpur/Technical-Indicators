{
 "cells": [
  {
   "cell_type": "code",
   "execution_count": null,
   "metadata": {},
   "outputs": [],
   "source": [
    "def Elder_Ray(data,ema_period=13):\n",
    "    data['EMA'] = data['close'].ewm(span=ema_period, adjust=False).mean()\n",
    "    \n",
    "    # Calculate Bull Power\n",
    "    data['Bull Power'] = data['high'] - data['EMA']\n",
    "    \n",
    "    # Calculate Bear Power\n",
    "    data['Bear Power'] = data['low'] - data['EMA']\n",
    "    return data\n",
    "\n",
    "data_cpy=Elder_Ray(data_cpy)\n",
    "\n",
    "# Plotting the results\n",
    "plt.figure(figsize=(14, 7))\n",
    "plt.subplot(2, 1, 1)\n",
    "plt.plot(data_cpy[10000:11000]['close'], label='Close Price')\n",
    "plt.plot(data_cpy[10000:11000]['EMA'], label=f'{13}-Period EMA', linestyle='--')\n",
    "plt.legend()\n",
    "\n",
    "plt.subplot(2, 1, 2)\n",
    "plt.plot(data_cpy[10000:11000]['Bull Power'], label='Bull Power', color='green')\n",
    "plt.plot(data_cpy[10000:11000]['Bear Power'], label='Bear Power', color='red')\n",
    "plt.axhline(0, color='black', linewidth=0.5)\n",
    "plt.title('Elder Ray Index: Bull Power and Bear Power')\n",
    "plt.legend()\n",
    "\n",
    "plt.tight_layout()\n",
    "plt.show()\n"
   ]
  }
 ],
 "metadata": {
  "language_info": {
   "name": "python"
  }
 },
 "nbformat": 4,
 "nbformat_minor": 2
}
