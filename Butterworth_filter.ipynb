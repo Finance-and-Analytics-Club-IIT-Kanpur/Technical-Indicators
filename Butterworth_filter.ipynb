{
 "cells": [
  {
   "cell_type": "code",
   "execution_count": 1,
   "metadata": {},
   "outputs": [],
   "source": [
    "#Low-pass filter: It allows low-frequency components (representing long-term trends) to pass through, \n",
    "# while attenuating (reducing) high-frequency components (representing short-term noise)\n",
    "\n",
    "#fs: The sampling frequency of the data. For example, if data consists of daily prices,\n",
    "#  this could be 1.0. If the data is minute-level, adjust fs accordingly (e.g., fs=1440 for minute data over a day).\n",
    "\n",
    "#cutoff: This is the cutoff frequency that defines where the transition between low and high frequencies occurs.\n",
    "#  A lower value will make the data smoother by cutting out more high-frequency noise.\n",
    "\n",
    "#order: The order of the Butterworth filter. A higher order will result in a sharper cutoff but can introduce more delay in the signal\n",
    "\n",
    "\n",
    "import numpy as np\n",
    "from scipy.signal import butter, filtfilt\n",
    "\n",
    "def butterworth_filter_smoothing(data, cutoff=0.1, fs=1.0, order=5):      \n",
    "    nyquist = 0.5 * fs\n",
    "    normal_cutoff = cutoff / nyquist\n",
    "    b, a = butter(order, normal_cutoff, btype='low', analog=False)\n",
    "    smoothed_prices = filtfilt(b, a, data['close'])\n",
    "    data['close_copy_butterworth'] = smoothed_prices\n",
    "    \n",
    "    return data"
   ]
  }
 ],
 "metadata": {
  "kernelspec": {
   "display_name": "base",
   "language": "python",
   "name": "python3"
  },
  "language_info": {
   "codemirror_mode": {
    "name": "ipython",
    "version": 3
   },
   "file_extension": ".py",
   "mimetype": "text/x-python",
   "name": "python",
   "nbconvert_exporter": "python",
   "pygments_lexer": "ipython3",
   "version": "3.11.5"
  }
 },
 "nbformat": 4,
 "nbformat_minor": 2
}
