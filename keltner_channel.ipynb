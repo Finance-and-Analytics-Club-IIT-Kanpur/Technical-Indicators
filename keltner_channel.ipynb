{
 "cells": [
  {
   "cell_type": "code",
   "execution_count": null,
   "metadata": {},
   "outputs": [],
   "source": [
    "def calculate_keltner_channel(df,ema_period=20,atr_period=14,multiplier=2):\n",
    "    \n",
    "    df['ema'] = df['close'].ewm(span=ema_period, adjust=False).mean()\n",
    "\n",
    "    df['high_low'] = df['high'] - df['low']\n",
    "    df['high_close'] = np.abs(df['high'] - df['close'].shift(1))\n",
    "    df['low_close'] = np.abs(df['low'] - df['close'].shift(1))\n",
    "    df['tr'] = df[['high_low', 'high_close', 'low_close']].max(axis=1)\n",
    "    df['atr'] = df['tr'].rolling(window=atr_period).mean()\n",
    "    \n",
    "    df['upper_band'] = df['ema'] + (multiplier * df['atr'])\n",
    "    df['lower_band'] = df['ema'] - (multiplier * df['atr'])\n",
    "    \n",
    "    df['signal_kc'] = 0\n",
    "\n",
    "    df.loc[df['close'] > df['upper_band'], 'signal_kc'] = 1\n",
    "\n",
    "    df.loc[df['close'] < df['lower_band'], 'signal_kc'] = -1\n",
    "    \n",
    "    return df"
   ]
  }
 ],
 "metadata": {
  "language_info": {
   "name": "python"
  }
 },
 "nbformat": 4,
 "nbformat_minor": 2
}
