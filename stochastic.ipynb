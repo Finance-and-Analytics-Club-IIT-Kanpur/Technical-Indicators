{
 "cells": [
  {
   "cell_type": "code",
   "execution_count": 24,
   "id": "0ee645e2-7a8b-4552-a9a5-61aefdf1be86",
   "metadata": {},
   "outputs": [],
   "source": [
    "def stochastic(data,window=14):\n",
    "    stochastic_fast =  (data['close'] - data['low'].rolling(window=window).min())/ (data['high'].rolling(window=window).max() - data['low'].rolling(window=window).min())\n",
    "    stochastic_slow = stochastic_fast.rolling(window=3).mean()\n",
    "    stochastic_signals=[]\n",
    "    \n",
    "    for i in range(len(stochastic_fast)):\n",
    "        if(stochastic_fast[i] >80):\n",
    "          stochastic_signals.append(-1)\n",
    "        elif(stochastic_fast[i] <20):\n",
    "          stochastic_signals.append(1)\n",
    "        else:\n",
    "          stochastic_signals.append(0)\n",
    "    data[\"signal_stochastic\"]=stochastic_signals    \n",
    "    return data"
   ]
  }
 ],
 "metadata": {
  "kernelspec": {
   "display_name": "Python 3 (ipykernel)",
   "language": "python",
   "name": "python3"
  },
  "language_info": {
   "codemirror_mode": {
    "name": "ipython",
    "version": 3
   },
   "file_extension": ".py",
   "mimetype": "text/x-python",
   "name": "python",
   "nbconvert_exporter": "python",
   "pygments_lexer": "ipython3",
   "version": "3.12.0"
  }
 },
 "nbformat": 4,
 "nbformat_minor": 5
}
