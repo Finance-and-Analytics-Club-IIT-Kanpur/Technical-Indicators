{
 "cells": [
  {
   "cell_type": "code",
   "execution_count": 1,
   "metadata": {},
   "outputs": [],
   "source": [
    "#   smoothing_level (alpha): Controls how quickly the level component reacts to changes. It ranges from 0 to 1.\n",
    "#smoothing_slope (beta): Controls how quickly the trend component reacts to changes.\n",
    "#smoothing_seasonal (gamma): Controls how quickly the seasonal component reacts to changes.\n",
    "\n",
    "#\ttrend: The type of trend. Use \"add\" for additive trends, where the change in value is constant over time,\n",
    "#  or \"mul\" for multiplicative trends, where the change is proportional to the level of the series.\n",
    "\n",
    "#\tseasonal_periods: Number of time steps that define one cycle of seasonality.\n",
    "#  For example, for daily data with weekly seasonality, you might set this to 7.\n",
    "\n",
    "\n",
    "import pandas as pd\n",
    "from statsmodels.tsa.holtwinters import ExponentialSmoothing\n",
    "\n",
    "def holt_winters_smoothing(data, seasonal_periods=12, trend='add', seasonal='add', smoothing_level=None, smoothing_slope=None, smoothing_seasonal=None):\n",
    "    model = ExponentialSmoothing(data['close'], trend=trend, seasonal=seasonal, seasonal_periods=seasonal_periods)\n",
    "    fit = model.fit(smoothing_level=smoothing_level, smoothing_slope=smoothing_slope, smoothing_seasonal=smoothing_seasonal)\n",
    "    data['close_copy_hw'] = fit.fittedvalues\n",
    "    \n",
    "    return data"
   ]
  }
 ],
 "metadata": {
  "kernelspec": {
   "display_name": "base",
   "language": "python",
   "name": "python3"
  },
  "language_info": {
   "codemirror_mode": {
    "name": "ipython",
    "version": 3
   },
   "file_extension": ".py",
   "mimetype": "text/x-python",
   "name": "python",
   "nbconvert_exporter": "python",
   "pygments_lexer": "ipython3",
   "version": "3.11.5"
  }
 },
 "nbformat": 4,
 "nbformat_minor": 2
}
