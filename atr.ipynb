{
 "cells": [
  {
   "cell_type": "code",
   "execution_count": null,
   "metadata": {},
   "outputs": [],
   "source": [
    "def atr(data):\n",
    "    period = 20\n",
    "\n",
    "    data['TR'] = 0\n",
    "\n",
    "    for i in range(1, len(data)):\n",
    "        high_low_range = abs(data['High'][i] - data['Low'][i])  # High-Low Range\n",
    "        high_prev_close_range = abs(data['High'][i] - data['Close'][i - 1])  # High-Previous Close Range\n",
    "        low_prev_close_range = abs(data['Low'][i] - data['Close'][i - 1])  # Low-Previous Close Range\n",
    "\n",
    "        # Assign the maximum value of the three ranges to the 'TR' column for the current row\n",
    "        data['TR'][i] = max(high_low_range, high_prev_close_range, low_prev_close_range)\n",
    "    data['atr'] = 0\n",
    "    data['atr'] = data['TR'].rolling(window=period).mean()\n",
    "    data['signal_atr']=data['atr'].ewm(span=25).mean()  #ewm check\n",
    "\n",
    "    data['slope_atr']=(data['signal_atr']-data['signal_atr'].shift(10))/10\n",
    "\n",
    "    return data\n"
   ]
  }
 ],
 "metadata": {
  "language_info": {
   "name": "python"
  }
 },
 "nbformat": 4,
 "nbformat_minor": 2
}
