{
  "nbformat": 4,
  "nbformat_minor": 0,
  "metadata": {
    "colab": {
      "provenance": []
    },
    "kernelspec": {
      "name": "python3",
      "display_name": "Python 3"
    },
    "language_info": {
      "name": "python"
    }
  },
  "cells": [
    {
      "cell_type": "code",
      "execution_count": null,
      "metadata": {
        "id": "9vYYeMYFvxyP"
      },
      "outputs": [],
      "source": [
        "import numpy as np\n",
        "import pandas as pd\n",
        "\n",
        "def jma(df,period=20,phase=0.5,power=2):\n",
        "    prices=df['Close'].values\n",
        "    length=len(prices)\n",
        "    # Initialize JMA array\n",
        "    jma=np.zeros(length)\n",
        "    # Calculate phase ratio and bandwidth\n",
        "    phase_ratio=(1-phase)/2\n",
        "    bandwidth=period/(power**2)\n",
        "    # Initialize the first value of JMA\n",
        "    jma[0]=prices[0]\n",
        "\n",
        "    # Calculate the Jurik Moving Average\n",
        "    for i in range(1,length):\n",
        "        difference = prices[i]-jma[i - 1]\n",
        "        smoothing_factor=1/max(1,bandwidth+np.abs(difference)/period)\n",
        "        jma[i]=jma[i-1]+smoothing_factor*difference*phase_ratio\n",
        "    # Create the JMA column\n",
        "    df['JMA']=jma\n",
        "\n",
        "    # Generate signals\n",
        "    signals = np.zeros(length)\n",
        "\n",
        "    for i in range(1, length):\n",
        "        if prices[i]>jma[i] and prices[i-1]<=jma[i-1]:\n",
        "            signals[i]=1  # Buy signal\n",
        "        elif prices[i]<jma[i] and prices[i-1]>=jma[i-1]:\n",
        "            signals[i]=-1  # Sell signal\n",
        "\n",
        "    # Add signals to DataFrame\n",
        "    df['JMA_signals'] = signals\n",
        "    return df\n"
      ]
    }
  ]
}