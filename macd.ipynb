{
 "cells": [
  {
   "cell_type": "code",
   "execution_count": null,
   "metadata": {},
   "outputs": [],
   "source": [
    "import pandas as pd\n",
    "\n",
    "def MACD(data):\n",
    "    data['MACD'] = data['Close'].ewm(span=12, adjust=False).mean() - data['Close'].ewm(span=28, adjust=False).mean()\n",
    "    data['Signal_MACD'] = data['MACD'].ewm(span=9, adjust=False).mean()\n",
    "    \n",
    "    data['signals_MACD'] = 0\n",
    "    data.loc[(data['MACD'] > data['Signal_MACD']) & (data['MACD'].shift(1) <= data['Signal_MACD'].shift(1)), 'signals_MACD'] = 1\n",
    "    data.loc[(data['MACD'] < data['Signal_MACD']) & (data['MACD'].shift(1) >= data['Signal_MACD'].shift(1)), 'signals_MACD'] = -1\n",
    "    \n",
    "    return data\n"
   ]
  }
 ],
 "metadata": {
  "language_info": {
   "name": "python"
  }
 },
 "nbformat": 4,
 "nbformat_minor": 2
}
