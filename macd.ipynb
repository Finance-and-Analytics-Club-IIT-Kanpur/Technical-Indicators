{
 "cells": [
  {
   "cell_type": "code",
   "execution_count": null,
   "metadata": {},
   "outputs": [],
   "source": [
    "def macd(data):\n",
    "\n",
    "    data['MACD'] = data['HA_CLOSE'].ewm(span = 12,adjust=False).mean() - data['HA_CLOSE'].ewm(span=28,adjust=False).mean()\n",
    "    data['Signal_MACD'] = data['MACD'].ewm(span = 9,adjust = False).mean()\n",
    "    return data"
   ]
  }
 ],
 "metadata": {
  "language_info": {
   "name": "python"
  }
 },
 "nbformat": 4,
 "nbformat_minor": 2
}
