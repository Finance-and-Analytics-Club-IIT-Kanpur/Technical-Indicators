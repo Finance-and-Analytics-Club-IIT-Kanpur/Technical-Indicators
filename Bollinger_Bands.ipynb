{
 "cells": [
  {
   "cell_type": "code",
   "execution_count": 31,
   "id": "9b57428d-78d5-4c72-b3fd-b1c7eecc0aed",
   "metadata": {},
   "outputs": [],
   "source": [
    "def bollinger_bands(data,window=20):\n",
    "    bb_upper, bb_lower = data['close'].rolling(window=window).mean() + 2* data['close'].rolling(window=window).std(), data['close'].rolling(window=window).mean() - 2 * data['close'].rolling(window=window).std()\n",
    "    bb_signal=[]\n",
    "    bb_signal.append(0)\n",
    "    for i in range(1, len(data)):\n",
    "        if data['close'][i] < bb_lower[i] and data['close'][i - 1] >= bb_lower[i - 1]:\n",
    "            bb_signal.append(1)\n",
    "        elif data['close'][i] > bb_upper[i] and data['close'][i - 1] <= bb_upper[i - 1]:\n",
    "            bb_signal.append(-1)\n",
    "        else:\n",
    "            bb_signal.append(0)\n",
    "    data['signal_bb']=bb_signal\n",
    "    return data"
   ]
  }
 ],
 "metadata": {
  "kernelspec": {
   "display_name": "Python 3 (ipykernel)",
   "language": "python",
   "name": "python3"
  },
  "language_info": {
   "codemirror_mode": {
    "name": "ipython",
    "version": 3
   },
   "file_extension": ".py",
   "mimetype": "text/x-python",
   "name": "python",
   "nbconvert_exporter": "python",
   "pygments_lexer": "ipython3",
   "version": "3.12.0"
  }
 },
 "nbformat": 4,
 "nbformat_minor": 5
}
