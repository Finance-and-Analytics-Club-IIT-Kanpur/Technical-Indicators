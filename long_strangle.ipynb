{
  "nbformat": 4,
  "nbformat_minor": 0,
  "metadata": {
    "colab": {
      "provenance": []
    },
    "kernelspec": {
      "name": "python3",
      "display_name": "Python 3"
    },
    "language_info": {
      "name": "python"
    }
  },
  "cells": [
    {
      "cell_type": "code",
      "execution_count": null,
      "metadata": {
        "id": "m0HVzFge7Bjy"
      },
      "outputs": [],
      "source": [
        "import math\n",
        "def long_strangle(data, sl, tp, s_idx, e_idx):\n",
        "    buy_list = []\n",
        "    sell_list = []\n",
        "    pnl_list = []\n",
        "    balance = 100000\n",
        "\n",
        "    nifty_data = data[s_idx : e_idx].reset_index(drop=True)\n",
        "\n",
        "    i = 0\n",
        "    while (i < len(nifty_data)):\n",
        "        trade = False\n",
        "\n",
        "        option_strike_call = math.ceil(nifty_data.loc[i, 'Close']/50)*50\n",
        "        df_call = pd.read_csv(f\"/content/NIFTY 16th MAY {option_strike_call} CE.csv\")\n",
        "        call_option = df_call[s_idx : e_idx].reset_index(drop=True)\n",
        "        option_strike_put = math.floor(nifty_data.loc[i, 'Close']/50)*50\n",
        "        df_put = pd.read_csv(f\"/content/NIFTY 16th MAY {option_strike_put} PE.csv\")\n",
        "        put_option = df[s_idx : e_idx].reset_index(drop=True)\n",
        "\n",
        "        if ((trend == 0) and (trade == False)):\n",
        "          buy_price = call_option.loc[i, 'Close'] + put_option.loc[i, 'Close']\n",
        "          stop_loss = buy_price*( 1 - sl )\n",
        "          take_profit = buy_price*( 1 + tp )\n",
        "          buy_list.append(i+s_idx)\n",
        "          trade = True\n",
        "\n",
        "        while ((trade == True) and (i < len(data)-1)):\n",
        "          latest_close = call_option.loc[i, 'Close'] + put_option.loc[i, 'Close']\n",
        "          trend = nifty_data.loc [i, 'Trend']\n",
        "          if ((trend == 1) or (take_profit < latest_close) or (stop_loss > latest_close)):\n",
        "            trade = False\n",
        "            pnl = (latest_close-buy_price)*int(balance/buy_price)\n",
        "            balance += pnl\n",
        "            pnl_list.append(pnl)\n",
        "            sell_list.append(i+s_idx)\n",
        "          else:\n",
        "            i += 1\n",
        "        i += 1\n",
        "\n",
        "    return buy_list, sell_list, pnl_list, balance"
      ]
    }
  ]
}