{
 "cells": [
  {
   "cell_type": "code",
   "execution_count": null,
   "metadata": {},
   "outputs": [],
   "source": [
    "def calculate_chaikin_money_flow(df, period=20):\n",
    "    \n",
    "\n",
    "    df['money_flow_multiplier'] = ((df['close'] - df['low']) - (df['high'] - df['close'])) / (df['high'] - df['low'])\n",
    "    \n",
    "    df['money_flow_volume'] = df['money_flow_multiplier'] * df['volume']\n",
    "    \n",
    "    df['cmf'] = df['money_flow_volume'].rolling(window=period).sum() / df['volume'].rolling(window=period).sum()\n",
    "    \n",
    "    df['signal_cmf'] = 0\n",
    "\n",
    "    df.loc[df['cmf'] > 0, 'signal_cmf'] = 1\n",
    "\n",
    "    df.loc[df['cmf'] < 0, 'signal_cmf'] = -1\n",
    "    \n",
    "    return df"
   ]
  }
 ],
 "metadata": {
  "language_info": {
   "name": "python"
  }
 },
 "nbformat": 4,
 "nbformat_minor": 2
}
