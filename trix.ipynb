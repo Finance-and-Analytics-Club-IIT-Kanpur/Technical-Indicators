{
 "cells": [
  {
   "cell_type": "code",
   "execution_count": null,
   "id": "e8d54151",
   "metadata": {},
   "outputs": [],
   "source": [
    "def calculate_tri(data,close=data['close']):\n",
    "    ema1=close.ewm(span=14, adjust=False).mean()\n",
    "    ema2=ema1.ewm(span=14, adjust=False).mean()\n",
    "    ema3=ema2.ewm(span=14, adjust=False).mean()\n",
    "    trix=[]\n",
    "    trix.append(0)\n",
    "    for i in range(1,len(data)):\n",
    "      trix.append(((ema3[i]-ema3[i-1])*100)/ema3[i-1])\n",
    "    data['TRIX']=trix\n",
    "    emas= data['TRIX'].ewm(span=9, adjust= False).mean()\n",
    "    data['signal_line']=emas\n",
    "     signal=[]\n",
    "    for i in range(len(data)):\n",
    "        if data['TRIX'].iloc[i]<data['signal_line'].iloc[i] and data['TRIX'].iloc[i-1]>data['signal_line'].iloc[i-1]:\n",
    "            signal.append(-1)\n",
    "        elif data['TRIX'].iloc[i]>data['signal_line'].iloc[i] and data['TRIX'].iloc[i-1]<data['signal_line'].iloc[i-1]:\n",
    "             signal.append(1)\n",
    "        else:\n",
    "            signal.append(0)\n",
    "    data['signals']=signal\n",
    "    return data"
   ]
  }
 ],
 "metadata": {
  "kernelspec": {
   "display_name": "Python 3 (ipykernel)",
   "language": "python",
   "name": "python3"
  },
  "language_info": {
   "codemirror_mode": {
    "name": "ipython",
    "version": 3
   },
   "file_extension": ".py",
   "mimetype": "text/x-python",
   "name": "python",
   "nbconvert_exporter": "python",
   "pygments_lexer": "ipython3",
   "version": "3.11.5"
  }
 },
 "nbformat": 4,
 "nbformat_minor": 5
}
