{
 "cells": [
  {
   "cell_type": "code",
   "execution_count": null,
   "metadata": {},
   "outputs": [],
   "source": [
    "# Calculate the Keltner Channel\n",
    "\n",
    "def calculate_keltner_channel(data, ema_period=20, atr_period=10, atr_multiplier=2):\n",
    "    # Calculate the 20-period Exponential Moving Average (EMA)\n",
    "    data['EMA_k'] = data['close'].ewm(span=ema_period, adjust=False).mean()\n",
    "    \n",
    "    # Calculate the Keltner Channel\n",
    "    data['Upper Band_k'] = data['EMA_k'] + (data['atr'] * atr_multiplier)\n",
    "    data['Lower Band_k'] = data['EMA_k'] - (data['atr'] * atr_multiplier)\n",
    "    \n",
    "    return data\n",
    "\n",
    "# Add the Keltner Channel to the dataframe\n",
    "data_cpy = calculate_keltner_channel(data_cpy)\n",
    "\n",
    "# Plotting the results\n",
    "plt.figure(figsize=(14, 7))\n",
    "plt.plot(data_cpy[10000:11000]['close'], label='Close Price', color='black')\n",
    "plt.plot(data_cpy[10000:11000]['EMA_k'], label=f'{20}-Period EMA', linestyle='--', color='blue')\n",
    "plt.plot(data_cpy[10000:11000]['Upper Band_k'], label='Upper Keltner Channel', linestyle='--', color='green')\n",
    "plt.plot(data_cpy[10000:11000]['Lower Band_k'], label='Lower Keltner Channel', linestyle='--', color='red')\n",
    "plt.fill_between(data_cpy[10000:11000].index, data_cpy[10000:11000]['Lower Band_k'], data_cpy[10000:11000]['Upper Band_k'], color='gray', alpha=0.1)\n",
    "plt.title(f'Keltner Channel')\n",
    "plt.legend()\n",
    "plt.show()\n",
    "\n"
   ]
  }
 ],
 "metadata": {
  "language_info": {
   "name": "python"
  }
 },
 "nbformat": 4,
 "nbformat_minor": 2
}
