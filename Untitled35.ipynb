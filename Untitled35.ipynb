{
  "nbformat": 4,
  "nbformat_minor": 0,
  "metadata": {
    "colab": {
      "provenance": []
    },
    "kernelspec": {
      "name": "python3",
      "display_name": "Python 3"
    },
    "language_info": {
      "name": "python"
    }
  },
  "cells": [
    {
      "cell_type": "code",
      "execution_count": null,
      "metadata": {
        "id": "ODmEUFDHzIlC"
      },
      "outputs": [],
      "source": [
        "def ppo(df):\n",
        "\n",
        "# Define the fast and slow periods for PPO\n",
        "  fast_period = 12\n",
        "  slow_period = 26\n",
        "  signal_period = 9\n",
        "\n",
        "  # Calculate the EMAs\n",
        "  df['EMA_fast'] = df['Close'].ewm(span=fast_period, adjust=False).mean()\n",
        "  df['EMA_slow'] = df['Close'].ewm(span=slow_period, adjust=False).mean()\n",
        "\n",
        "  # Calculate the PPO\n",
        "  df['PPO'] = (df['EMA_fast'] - df['EMA_slow']) / df['EMA_slow'] * 100\n",
        "  # Calculate the signal line (EMA of PPO)\n",
        "  df['Signal_line'] = df['PPO'].ewm(span=signal_period, adjust=False).mean()\n",
        "\n",
        "  # Generate Buy/Sell signals\n",
        "  df['signal_ppo'] = 0\n",
        "\n",
        "  for i in range(len(df)):\n",
        "    if(df['signal_ppo'][i]>df['Signal_line'][i] ):\n",
        "      df['signals'][i]=1\n",
        "    elif (df['PPO'][i]<df['Signal_line'][i] ):\n",
        "      df['signal_ppo'][i]=-1\n",
        "\n",
        "  # df['signals'][df['PPO'] > df['Signal_line']] = 1   # Buy signal\n",
        "  # df['signals'][df['PPO'] < df['Signal_line']] = -1  # Sell signal\n",
        "\n",
        "  return df"
      ]
    }
  ]
}