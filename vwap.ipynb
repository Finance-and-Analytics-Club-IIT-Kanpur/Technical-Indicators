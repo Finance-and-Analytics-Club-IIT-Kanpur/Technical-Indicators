{
 "cells": [
  {
   "cell_type": "code",
   "execution_count": null,
   "metadata": {},
   "outputs": [],
   "source": [
    "def calculate_vwap(df):\n",
    "\n",
    "    df['typical_price'] = (df['high'] + df['low'] + df['close']) / 3\n",
    "    df['vwap'] = (df['typical_price'] * df['volume']).cumsum() / df['volume'].cumsum()\n",
    "    \n",
    "    df['signal_vwap'] = 0\n",
    "\n",
    "    df.loc[df['close'] > df['vwap'], 'signal'] = 1\n",
    "    df.loc[df['close'] < df['vwap'], 'signal'] = -1\n",
    "    \n",
    "    return df"
   ]
  }
 ],
 "metadata": {
  "language_info": {
   "name": "python"
  }
 },
 "nbformat": 4,
 "nbformat_minor": 2
}
