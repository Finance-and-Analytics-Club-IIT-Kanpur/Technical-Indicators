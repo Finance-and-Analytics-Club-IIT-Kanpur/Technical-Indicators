{
 "cells": [
  {
   "cell_type": "code",
   "execution_count": null,
   "metadata": {},
   "outputs": [],
   "source": [
    "\n",
    "import hurst as hs\n",
    "def Calculate_Hurst(df, window_size, ser_type):\n",
    "    \"\"\"\n",
    "    Calculates the hurst exponent for the var:variable in df:dataset for given rolling window size\n",
    "    ser_type: gives the type of series. It can be of three types:\n",
    "        'change':      a series is just random values (i.e. np.random.randn(...))\n",
    "        'random_walk': a series is a cumulative sum of changes (i.e. np.cumsum(np.random.randn(...)))\n",
    "        'price':       a series is a cumulative product of changes (i.e. np.cumprod(1+epsilon*np.random.randn(...))\n",
    "    \"\"\"\n",
    "    hurst = [np.nan] * (window_size-1)\n",
    "    var_values = list(df['close'])\n",
    "    for i in range(0, len(var_values)-(window_size-1)):\n",
    "        H, c, data1 = hs.compute_Hc(var_values[i:i+window_size], kind=ser_type, simplified=True)\n",
    "        hurst.append(H)\n",
    "    df['hurst_'+str(window_size)] = hurst\n",
    "    return df\n",
    "\n",
    "data_cpy=Calculate_Hurst(data_cpy,100,'price')"
   ]
  }
 ],
 "metadata": {
  "language_info": {
   "name": "python"
  }
 },
 "nbformat": 4,
 "nbformat_minor": 2
}
