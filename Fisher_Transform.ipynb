{
  "nbformat": 4,
  "nbformat_minor": 0,
  "metadata": {
    "colab": {
      "provenance": []
    },
    "kernelspec": {
      "name": "python3",
      "display_name": "Python 3"
    },
    "language_info": {
      "name": "python"
    }
  },
  "cells": [
    {
      "cell_type": "code",
      "execution_count": null,
      "metadata": {
        "id": "x7PF4JSW6Nkd"
      },
      "outputs": [],
      "source": [
        "import numpy as np\n",
        "import pandas as pd\n",
        "\n",
        "def fisher_transform(df, period=10):\n",
        "    high_low_mid=(df['High']+df['Low'])/2\n",
        "    max_low=df['Low'].rolling(window=period).min()\n",
        "    max_high=df['High'].rolling(window=period).max()\n",
        "\n",
        "    normalized_value=2*((df['Close']-max_low)/(max_high-max_low)-0.5)\n",
        "    normalized_value = normalized_value.clip(lower=-1, upper=1)\n",
        "\n",
        "    fisher = 0.5 * np.log((1+normalized_value)/(1 - normalized_value))\n",
        "    # Smooth\n",
        "    fisher_smoothed = fisher.rolling(window=3).mean()\n",
        "\n",
        "    df['Fisher'] = fisher_smoothed\n",
        "    df['Fisher_signals'] = 0\n",
        "    df['Fisher_signals'] = np.where(df['Fisher'] > df['Fisher'].shift(1), 1, df['Signal'])  # Buy signal\n",
        "    df['Fisher_signals'] = np.where(df['Fisher'] < df['Fisher'].shift(1), -1, df['Signal'])  # Sell signal\n",
        "    return df\n"
      ]
    }
  ]
}