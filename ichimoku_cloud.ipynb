{
 "cells": [
  {
   "cell_type": "code",
   "execution_count": null,
   "metadata": {},
   "outputs": [],
   "source": [
    "def calculate_ichimoku(df):\n",
    "\n",
    "    df['tenkan_sen'] = (df['high'].rolling(window=9).max() + df['low'].rolling(window=9).min()) / 2\n",
    "    \n",
    "    df['kijun_sen'] = (df['high'].rolling(window=26).max() + df['low'].rolling(window=26).min()) / 2\n",
    "    \n",
    "    df['senkou_span_a'] = ((df['tenkan_sen'] + df['kijun_sen']) / 2).shift(26)\n",
    "    \n",
    "    df['senkou_span_b'] = (df['high'].rolling(window=52).max() + df['low'].rolling(window=52).min()) / 2\n",
    "    df['senkou_span_b'] = df['senkou_span_b'].shift(26)\n",
    "    \n",
    "    df['signal_ic'] = 0\n",
    "\n",
    "    buy_condition = (df['close'] > df[['senkou_span_a', 'senkou_span_b']].max(axis=1)) & (df['tenkan_sen'] > df['kijun_sen'])\n",
    "    df.loc[buy_condition, 'signal_ic'] = 1\n",
    "    \n",
    "    sell_condition = (df['close'] < df[['senkou_span_a', 'senkou_span_b']].min(axis=1)) & (df['tenkan_sen'] < df['kijun_sen'])\n",
    "    df.loc[sell_condition, 'signal_ic'] = -1\n",
    "    \n",
    "    return df"
   ]
  }
 ],
 "metadata": {
  "language_info": {
   "name": "python"
  }
 },
 "nbformat": 4,
 "nbformat_minor": 2
}
