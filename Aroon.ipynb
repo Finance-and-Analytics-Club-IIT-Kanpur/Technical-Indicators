{
 "cells": [
  {
   "cell_type": "code",
   "execution_count": null,
   "id": "9b57428d-78d5-4c72-b3fd-b1c7eecc0aed",
   "metadata": {},
   "outputs": [],
   "source": [
    "def aroon_signal(data,period=25):\n",
    "    aroon_up = []\n",
    "    aroon_down = []\n",
    "    \n",
    "    for i in range(len(data)):\n",
    "        if i < period:\n",
    "            aroon_up.append(None)\n",
    "            aroon_down.append(None)\n",
    "        else:\n",
    "            high_period = data['high'][i-period+1:i+1]\n",
    "            low_period = data['low'][i-period+1:i+1]\n",
    "    \n",
    "            aroon_up_value = ((period - high_period[::-1].idxmax()) / period) * 100\n",
    "            aroon_down_value = ((period - low_period[::-1].idxmin()) / period) * 100\n",
    "    \n",
    "            aroon_up.append(aroon_up_value)\n",
    "            aroon_down.append(aroon_down_value)\n",
    "    \n",
    "    \n",
    "    data[\"aroon_up\"]=aroon_up\n",
    "    data[\"aroon_down\"]=aroon_down\n",
    "    \n",
    "    aroon_oscillator = data[\"aroon_up\"] - data[\"aroon_down\"]\n",
    "    \n",
    "    aroon_signals=[]\n",
    "    \n",
    "    for i in range(len(data)):\n",
    "      if aroon_oscillator[i]>50 and aroon_oscillator[i-1]<50:\n",
    "        aroon_signals.append(1)\n",
    "      elif aroon_oscillator[i]<-50 and aroon_oscillator[i-1]>-50:\n",
    "        aroon_signals.append(-1)\n",
    "      else:\n",
    "        aroon_signals.append(0)\n",
    "          \n",
    "    data['signal_aroon']=aroon_signals\n",
    "    return data"
   ]
  }
 ],
 "metadata": {
  "kernelspec": {
   "display_name": "Python 3 (ipykernel)",
   "language": "python",
   "name": "python3"
  },
  "language_info": {
   "codemirror_mode": {
    "name": "ipython",
    "version": 3
   },
   "file_extension": ".py",
   "mimetype": "text/x-python",
   "name": "python",
   "nbconvert_exporter": "python",
   "pygments_lexer": "ipython3",
   "version": "3.12.0"
  }
 },
 "nbformat": 4,
 "nbformat_minor": 5
}
