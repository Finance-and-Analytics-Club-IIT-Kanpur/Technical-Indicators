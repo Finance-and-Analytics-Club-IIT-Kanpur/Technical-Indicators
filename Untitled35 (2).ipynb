{
  "nbformat": 4,
  "nbformat_minor": 0,
  "metadata": {
    "colab": {
      "provenance": []
    },
    "kernelspec": {
      "name": "python3",
      "display_name": "Python 3"
    },
    "language_info": {
      "name": "python"
    }
  },
  "cells": [
    {
      "cell_type": "code",
      "source": [
        "def Mean_sd(df):\n",
        "\n",
        "    signal=[]\n",
        "\n",
        "    for i in range(len(df)):\n",
        "        if i>4:\n",
        "            data1 = [df['Close'][i],df['Close'][i-1]]\n",
        "            data2 = [df['Close'][i-2],df['Close'][i-3],df['Close'][i-4]]\n",
        "            if (np.mean(data1)) > (np.mean(data2))+(2*(np.std(data2))):\n",
        "                signal.append(1)\n",
        "            elif (np.mean(data1)) < (np.mean(data2))+(2*(np.std(data2))):\n",
        "                signal.append(-1)\n",
        "            else:\n",
        "                signal.append(0)\n",
        "        else:\n",
        "            signal.append(0)\n",
        "\n",
        "    df['signal_mean_sd']=signal\n",
        "    return df"
      ],
      "metadata": {
        "id": "rZEJz1541GRF"
      },
      "execution_count": null,
      "outputs": []
    }
  ]
}