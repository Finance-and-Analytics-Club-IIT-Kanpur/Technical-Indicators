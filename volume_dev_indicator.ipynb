{
 "cells": [
  {
   "cell_type": "code",
   "execution_count": null,
   "id": "0ab3036a",
   "metadata": {},
   "outputs": [],
   "source": [
    "def volume_indicator(data):\n",
    "  data['pc']=((data['close'].diff())/data['close'].shift(1))*100\n",
    "  data['volume_change']=abs(data['volume'].diff())\n",
    "  data['vc_expo_fast']=data['volume_change'].ewm(span=5,adjust=False).mean()\n",
    "  data['fast_c']=abs(data['vc_expo_fast'].diff())\n",
    "  data['vc_expo_slow']=data['volume_change'].ewm(span=14,adjust=False).mean()\n",
    "  data['slow_c']=abs(data['vc_expo_slow'].diff())\n",
    "  data['ratio']=data['vc_expo_fast']/data['vc_expo_slow']\n",
    "  data['diff']=abs(data['ratio'].diff())\n",
    "  return data"
   ]
  }
 ],
 "metadata": {
  "kernelspec": {
   "display_name": "Python 3 (ipykernel)",
   "language": "python",
   "name": "python3"
  },
  "language_info": {
   "codemirror_mode": {
    "name": "ipython",
    "version": 3
   },
   "file_extension": ".py",
   "mimetype": "text/x-python",
   "name": "python",
   "nbconvert_exporter": "python",
   "pygments_lexer": "ipython3",
   "version": "3.11.5"
  }
 },
 "nbformat": 4,
 "nbformat_minor": 5
}
