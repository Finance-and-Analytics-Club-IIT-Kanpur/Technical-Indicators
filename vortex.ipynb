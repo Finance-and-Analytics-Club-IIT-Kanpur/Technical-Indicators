{
 "cells": [
  {
   "cell_type": "code",
   "execution_count": null,
   "metadata": {},
   "outputs": [],
   "source": [
    "import pandas as pd\n",
    "import numpy as np\n",
    "import matplotlib.pyplot as plt\n",
    "\n",
    "def calculate_vortex_indicator(data, period=14):\n",
    "    # Calculate True Range (TR)\n",
    "    high_low = data['high'] - data['low']\n",
    "    high_close = np.abs(data['high'] - data['close'].shift())\n",
    "    low_close = np.abs(data['low'] - data['close'].shift())\n",
    "    tr = np.maximum(high_low, high_close, low_close)\n",
    "\n",
    "    # Calculate Vortex Movement (VM+ and VM-)\n",
    "    vm_plus = np.abs(data['high'] - data['high'].shift())\n",
    "    vm_minus = np.abs(data['low'] - data['low'].shift())\n",
    "\n",
    "    # Sum of TR and VM+ / VM- over the given period\n",
    "    vm_plus_act = vm_plus/tr\n",
    "    vm_minus_act = vm_minus/tr\n",
    "\n",
    "    # Calculate VI+ and VI-\n",
    "    vi_plus = vm_plus_act.rolling(window=period).sum()\n",
    "    vi_minus = vm_minus_act.rolling(window=period).sum()\n",
    "\n",
    "    data['VI+'] = vi_plus\n",
    "    data['VI-'] = vi_minus\n",
    "\n",
    "    return data\n",
    "\n",
    "# Calculate Vortex Indicator\n",
    "period = 20\n",
    "data_cpy = calculate_vortex_indicator(data_cpy, period)\n",
    "\n",
    "# Plotting the Vortex Indicator\n",
    "plt.figure(figsize=(14, 7))\n",
    "plt.subplot(2,1,1)\n",
    "plt.plot(data_cpy[10000:11000].index, data_cpy[10000:11000]['VI+'], label='VI+')\n",
    "plt.plot(data_cpy[10000:11000].index, data_cpy[10000:11000]['VI-'], label='VI-')\n",
    "plt.legend()\n",
    "plt.subplot(2,1,2)\n",
    "plt.plot(data_cpy[10000:11000].index.values,data_cpy[10000:11000]['close'])\n",
    "plt.title('Vortex Indicator (VI) for BTC-USD')\n",
    "plt.legend()\n",
    "plt.show()\n",
    "\n"
   ]
  }
 ],
 "metadata": {
  "language_info": {
   "name": "python"
  }
 },
 "nbformat": 4,
 "nbformat_minor": 2
}
