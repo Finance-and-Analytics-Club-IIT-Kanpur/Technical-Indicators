{
 "cells": [
  {
   "cell_type": "code",
   "execution_count": null,
   "id": "79cbf735",
   "metadata": {},
   "outputs": [],
   "source": [
    "def generate_rvo_signals(data, short_window=14, long_window=28):\n",
    "    # Calculate the Relative Volume Oscillator (RVO)\n",
    "    data = calculate_rvo(data, short_window, long_window)\n",
    "\n",
    "    # Create columns for signals\n",
    "    data['signals'] = 0  # Default to no signal\n",
    "    data['signals'] = np.where((data['RVO'] > 0) & (data['RVO'].shift(1) <= 0), 1, data['signals'])  # Buy Signal\n",
    "    data['signals'] = np.where((data['RVO'] < 0) & (data['RVO'].shift(1) >= 0), -1, data['signals'])  # Sell Signal\n",
    "\n",
    "    # Generate trade actions based on signals\n",
    "    data['Position'] = data['Signal'].replace(to_replace=0, method='ffill')  # Hold positions\n",
    "\n",
    "    return data\n",
    "def calculate_rvo(data, short_window=14, long_window=28):\n",
    "    # Calculate short and long term moving averages of volume\n",
    "    data['short_vol_ma'] = data['volume'].rolling(window=short_window).mean()\n",
    "    data['long_vol_ma'] = data['volume'].rolling(window=long_window).mean()\n",
    "\n",
    "    # Compute Relative Volume Oscillator (RVO)\n",
    "    data['RVO'] = 100 * (data['short_vol_ma'] - data['long_vol_ma']) / data['long_vol_ma']\n",
    "\n",
    "    # Clean up columns\n",
    "    data.drop(['short_vol_ma', 'long_vol_ma'], axis=1, inplace=True)\n",
    "\n",
    "    return data\n"
   ]
  }
 ],
 "metadata": {
  "kernelspec": {
   "display_name": "Python 3 (ipykernel)",
   "language": "python",
   "name": "python3"
  },
  "language_info": {
   "codemirror_mode": {
    "name": "ipython",
    "version": 3
   },
   "file_extension": ".py",
   "mimetype": "text/x-python",
   "name": "python",
   "nbconvert_exporter": "python",
   "pygments_lexer": "ipython3",
   "version": "3.11.5"
  }
 },
 "nbformat": 4,
 "nbformat_minor": 5
}
