{
 "cells": [
  {
   "cell_type": "code",
   "execution_count": 9,
   "id": "b02611f3-abaa-4c9e-a713-f635a8efcc88",
   "metadata": {},
   "outputs": [],
   "source": [
    "from pykalman import KalmanFilter\n",
    "def kalman_filter(data):\n",
    "    kf=KalmanFilter(initial_state_mean=0,n_dim_obs=1)\n",
    "    for price_type in ['open','high','low','close']:\n",
    "        filtered_state_means, _ =kf.filter(data[price_type].values)\n",
    "        data[price_type]=filtered_state_means.flatten()\n",
    "\n",
    "    return data"
   ]
  }
 ],
 "metadata": {
  "kernelspec": {
   "display_name": "Python 3 (ipykernel)",
   "language": "python",
   "name": "python3"
  },
  "language_info": {
   "codemirror_mode": {
    "name": "ipython",
    "version": 3
   },
   "file_extension": ".py",
   "mimetype": "text/x-python",
   "name": "python",
   "nbconvert_exporter": "python",
   "pygments_lexer": "ipython3",
   "version": "3.12.0"
  }
 },
 "nbformat": 4,
 "nbformat_minor": 5
}
