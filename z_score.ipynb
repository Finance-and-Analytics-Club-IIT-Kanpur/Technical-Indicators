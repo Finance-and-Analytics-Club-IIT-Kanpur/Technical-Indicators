{
 "cells": [
  {
   "cell_type": "code",
   "execution_count": null,
   "id": "0ab3036a",
   "metadata": {},
   "outputs": [],
   "source": [
    "def z_score(data,period=20):\n",
    "    data['Rolling_Mean']=data['close'].rolling(window=period).mean()\n",
    "    data['Rolling_Std']=data['close'].rolling(window=period).std()\n",
    "    data['Z-Score']=(data['close']-data['Rolling_Mean'])/data['Rolling_Std']\n",
    "    z_thresh=2\n",
    "    data['signals']=0\n",
    "    data.loc[data['Z-Score'] < -z_thresh, 'signals'] = 1\n",
    "    data.loc[data['Z-Score'] > z_thresh, 'signals'] = -1\n",
    "    return data"
   ]
  }
 ],
 "metadata": {
  "kernelspec": {
   "display_name": "Python 3 (ipykernel)",
   "language": "python",
   "name": "python3"
  },
  "language_info": {
   "codemirror_mode": {
    "name": "ipython",
    "version": 3
   },
   "file_extension": ".py",
   "mimetype": "text/x-python",
   "name": "python",
   "nbconvert_exporter": "python",
   "pygments_lexer": "ipython3",
   "version": "3.11.5"
  }
 },
 "nbformat": 4,
 "nbformat_minor": 5
}
