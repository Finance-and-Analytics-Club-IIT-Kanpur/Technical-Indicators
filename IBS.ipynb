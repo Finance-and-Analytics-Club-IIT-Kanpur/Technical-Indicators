{
 "cells": [
  {
   "cell_type": "code",
   "execution_count": 23,
   "id": "b02611f3-abaa-4c9e-a713-f635a8efcc88",
   "metadata": {},
   "outputs": [],
   "source": [
    "def ibs_signal(data):\n",
    "    ibs = (data['close']-data['low'])/(data['high']-data['low'])\n",
    "    weight_avg = ibs.ewm(span=5, adjust=False).mean()\n",
    "    IBS_signal=[]\n",
    "    \n",
    "    for i in range (0,len(data)):\n",
    "        if weight_avg[i] > 0.6 :\n",
    "            IBS_signal.append(-1)\n",
    "        elif weight_avg[i] < 0.4:\n",
    "            IBS_signal.append(1)\n",
    "        else:\n",
    "            IBS_signal.append(0)\n",
    "            \n",
    "    data['signal_IBS']=IBS_signal\n",
    "    return data"
   ]
  }
 ],
 "metadata": {
  "kernelspec": {
   "display_name": "Python 3 (ipykernel)",
   "language": "python",
   "name": "python3"
  },
  "language_info": {
   "codemirror_mode": {
    "name": "ipython",
    "version": 3
   },
   "file_extension": ".py",
   "mimetype": "text/x-python",
   "name": "python",
   "nbconvert_exporter": "python",
   "pygments_lexer": "ipython3",
   "version": "3.12.0"
  }
 },
 "nbformat": 4,
 "nbformat_minor": 5
}
