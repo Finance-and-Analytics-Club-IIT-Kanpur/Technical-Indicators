{
  "nbformat": 4,
  "nbformat_minor": 0,
  "metadata": {
    "colab": {
      "provenance": []
    },
    "kernelspec": {
      "name": "python3",
      "display_name": "Python 3"
    },
    "language_info": {
      "name": "python"
    }
  },
  "cells": [
    {
      "cell_type": "code",
      "source": [
        "import pandas as pd\n",
        "!pip install ta\n",
        "import ta as tat\n",
        "import numpy as np\n",
        "\n",
        "def paraboli_sar(data):\n",
        "\n",
        "\n",
        "# Assuming you have a DataFrame 'df' with columns 'Close', 'High', and 'Low'\n",
        "\n",
        "# Calculate Parabolic SAR\n",
        "  df['SAR'] = tat.trend.PSARIndicator(high=df['High'], low=df['Low'], close=df['Close']).psar()\n",
        "\n",
        "  # Generate Buy/Sell signals\n",
        "  df['signals_psar'] = 0  # Default signal (0 means no action)\n",
        "  df['signals_psar'][df['Close'] > df['SAR']] = 1  # Buy signal\n",
        "  df['signals_psar'][df['Close'] < df['SAR']] = -1  # Sell signal\n",
        "\n",
        "  # Optional: Shift the signal column if you want to generate the signal at the closing price of the previous day\n",
        "  # df['Signal'] = df['Signal'].shift()\n",
        "\n",
        "  # Drop the first row if it's NaN due to shifting\n",
        "  df.dropna(inplace=True)\n",
        "  return df['signals']"
      ],
      "metadata": {
        "id": "rZEJz1541GRF"
      },
      "execution_count": null,
      "outputs": []
    }
  ]
}
