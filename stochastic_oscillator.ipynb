{
 "cells": [
  {
   "cell_type": "code",
   "execution_count": null,
   "metadata": {},
   "outputs": [],
   "source": [
    "def donchian_channel(data):\n",
    "\n",
    "    data['UC'] = data['High'].rolling(window=20).max()\n",
    "    data['LC'] = data['Low'].rolling(window=20).min()  \n",
    "    data['MC'] = (data['UC'] + data['LC']) / 2\n",
    "    \n",
    "    signal_donchian = [0] * 20\n",
    "    \n",
    "    for i in range(20, len(data)):\n",
    "        if data['Close'].iloc[i] > data['MC'].iloc[i]:\n",
    "            signal_donchian.append(1)\n",
    "        elif data['Close'].iloc[i] < data['MC'].iloc[i]:\n",
    "            signal_donchian.append(-1)\n",
    "        else:\n",
    "            signal_donchian.append(0)\n",
    "    \n",
    "    data['signal_donchian'] = signal_donchian\n",
    "\n",
    "    return data\n"
   ]
  }
 ],
 "metadata": {
  "language_info": {
   "name": "python"
  }
 },
 "nbformat": 4,
 "nbformat_minor": 2
}
