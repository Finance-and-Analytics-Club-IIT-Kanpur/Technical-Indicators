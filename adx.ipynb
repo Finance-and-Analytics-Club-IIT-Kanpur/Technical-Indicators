{
 "cells": [
  {
   "cell_type": "code",
   "execution_count": null,
   "metadata": {},
   "outputs": [],
   "source": [
    "def include_adx(df , di_period , adx_period):\n",
    "    adxI = ADXIndicator(df['High'] , df['Low'] , df['Close'] ,20)\n",
    "    df['pos_directional_indicator'] = adxI.adx_pos()\n",
    "    df['neg_directional_indicator'] = adxI.adx_neg()\n",
    "    df['adx'] = adxI.adx()\n",
    "    #df['+di'] = ta.PLUS_DI(df['high'] , df['ha_low'] , df['close'] , timeperiod= di_period)\n",
    "    #df['-di'] = ta.MINUS_DI(df['high'] , df['low'] , df['close'] , timeperiod= di_period)\n",
    "    return df\n",
    "\n",
    "data_cpy=include_adx(data_cpy,14,30)"
   ]
  }
 ],
 "metadata": {
  "language_info": {
   "name": "python"
  }
 },
 "nbformat": 4,
 "nbformat_minor": 2
}
