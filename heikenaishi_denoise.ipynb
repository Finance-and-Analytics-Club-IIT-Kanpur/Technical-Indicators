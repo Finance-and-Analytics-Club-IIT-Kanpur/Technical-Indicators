{
 "cells": [
  {
   "cell_type": "code",
   "execution_count": null,
   "metadata": {},
   "outputs": [],
   "source": [
    "def Heiken_Ashi(df):\n",
    "    df['HA_close']=(df['Open']+ df['High']+ df['Low']+ df['Close'])/4\n",
    "    df['HA_open']=(df['Open']+df['Close'])/2\n",
    "\n",
    "    for i in range(1, len(df)):\n",
    "        df['HA_open'][i]=(df['HA_open'][i-1]+df['HA_close'][i-1])/2\n",
    "        df['HA_high']=df[['HA_open','HA_close','High']].max(axis=1)\n",
    "        df['HA_low']=df[['HA_open','HA_close','Low']].min(axis=1)\n",
    "        df['Close']=df['HA_close']\n",
    "        df['Open']=df['HA_open']\n",
    "        df['High']=df['HA_high']\n",
    "        df['Low']=df['HA_low']\n",
    "    return df"
   ]
  }
 ],
 "metadata": {
  "language_info": {
   "name": "python"
  }
 },
 "nbformat": 4,
 "nbformat_minor": 2
}
